{
 "cells": [
  {
   "cell_type": "code",
   "execution_count": 4,
   "id": "c88c24f4",
   "metadata": {},
   "outputs": [],
   "source": [
    "'''Imports'''\n",
    "import json\n",
    "import pandas as pd\n",
    "import numpy as np\n",
    "import re\n",
    "import nltk\n",
    "from nltk.corpus import stopwords\n",
    "from nltk.stem import PorterStemmer"
   ]
  },
  {
   "cell_type": "code",
   "execution_count": 5,
   "id": "723d5061",
   "metadata": {},
   "outputs": [],
   "source": [
    "'''Reading Data'''\n",
    "data_dir_comments = r\"C:\\Users\\gungo\\OneDrive\\Desktop\\stocks_comments.ndjson\"\n",
    "data_dir_sub = r\"C:\\Users\\gungo\\OneDrive\\Desktop\\stocks_submissions.ndjson\"\n",
    "df_com = pd.read_json(data_dir_comments, lines=True)\n",
    "df_sub = pd.read_json(data_dir_sub, lines=True)"
   ]
  },
  {
   "cell_type": "code",
   "execution_count": 6,
   "id": "d4f185ec",
   "metadata": {},
   "outputs": [],
   "source": [
    "'''Reducing Data'''\n",
    "df_com_reduced = df_com[['created_utc','score','body']]\n",
    "df_sub_reduced = df_sub[['created_utc','score','selftext']]"
   ]
  },
  {
   "cell_type": "code",
   "execution_count": 7,
   "id": "839dac52",
   "metadata": {},
   "outputs": [],
   "source": [
    "'''Pre-Processing'''\n",
    "nltk.download('stopwords', quiet=True)\n",
    "stop_words = set(stopwords.words('english'))\n",
    "stemmer = PorterStemmer()\n",
    "\n",
    "def preprocess_text(text):\n",
    "    \"\"\"Cleans, tokenizes, removes stopwords, and stems text.\"\"\"\n",
    "    if not isinstance(text, str):\n",
    "        return \"\"\n",
    "    text = text.lower()\n",
    "    text = re.sub(r'&amp;#x200B;', '', text)\n",
    "    text = re.sub('&amp;', '', text) # remove some special characters from the data &amp; corresponds to &\n",
    "    text = re.sub(r'\\s+', ' ', text)  # eliminate duplicate whitespaces using regex\n",
    "    text = re.sub(r'\\[[^]]*\\]', '', text)  # remove text in square brackets\n",
    "    text = re.sub(r'http\\S+', '', text)  # remove URLs\n",
    "    text = ' '.join(word for word in text.split() if word not in stop_words)\n",
    "    #text = ' '.join(stemmer.stem(word) for word in text.split() if word not in stop_words)\n",
    "    return text\n",
    "\n",
    "def preprocess(df):\n",
    "    \"\"\"Preprocesses the 'body' or 'selftext' column and removes '[removed]' entries.\"\"\"\n",
    "    # Determine which column to process\n",
    "    if 'body' in df.columns:\n",
    "        text_col = 'body'\n",
    "    elif 'selftext' in df.columns:\n",
    "        text_col = 'selftext'\n",
    "    else:\n",
    "        raise ValueError(\"DataFrame must contain either 'body' or 'selftext' column.\")\n",
    "\n",
    "    # Remove NaN and '[removed]' rows\n",
    "    df = df[df[text_col].notna()]\n",
    "    df = df[~df[text_col].str.contains(r'\\[removed\\]', na=False)]\n",
    "    df = df[~df[text_col].str.contains(r'\\[deleted\\]', na=False)]\n",
    "\n",
    "    # Apply text preprocessing\n",
    "    df['processed_text'] = df[text_col].apply(preprocess_text)\n",
    "\n",
    "    return df.reset_index(drop=True)\n",
    "\n",
    "pre_processed_sub = preprocess(df_sub_reduced)\n",
    "pre_processed_com = preprocess(df_com_reduced)"
   ]
  },
  {
   "cell_type": "code",
   "execution_count": null,
   "id": "bccc7c2b",
   "metadata": {},
   "outputs": [],
   "source": [
    "'''Comment Linking'''\n",
    "#df_com.info()\n",
    "#df_sub.info()\n",
    "df_com_test = df_com[['created_utc','score','id','parent_id','body']]\n",
    "df_sub_test = df_sub[['created_utc','score','id','selftext']]\n",
    "#df_com_test.head(20)"
   ]
  },
  {
   "cell_type": "code",
   "execution_count": 13,
   "id": "ed05d7a5",
   "metadata": {},
   "outputs": [
    {
     "data": {
      "text/plain": [
       "'Display'"
      ]
     },
     "execution_count": 13,
     "metadata": {},
     "output_type": "execute_result"
    }
   ],
   "source": [
    "'''Display'''\n",
    "#pre_processed_sub.head(20)"
   ]
  },
  {
   "cell_type": "code",
   "execution_count": null,
   "id": "56102cbd",
   "metadata": {},
   "outputs": [],
   "source": [
    "'''Export'''\n",
    "#pre_processed_sub.to_csv('preprocessed-sub.csv', index=False)"
   ]
  }
 ],
 "metadata": {
  "kernelspec": {
   "display_name": "Python 3",
   "language": "python",
   "name": "python3"
  },
  "language_info": {
   "codemirror_mode": {
    "name": "ipython",
    "version": 3
   },
   "file_extension": ".py",
   "mimetype": "text/x-python",
   "name": "python",
   "nbconvert_exporter": "python",
   "pygments_lexer": "ipython3",
   "version": "3.12.3"
  }
 },
 "nbformat": 4,
 "nbformat_minor": 5
}
